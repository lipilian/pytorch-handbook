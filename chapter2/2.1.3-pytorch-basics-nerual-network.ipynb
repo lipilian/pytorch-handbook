{
 "cells": [
  {
   "cell_type": "markdown",
   "metadata": {},
   "source": [
    "# PyTorch 基础 : 神经网络包nn和优化器optm\n",
    "torch.nn是专门为神经网络设计的模块化接口。nn构建于 Autograd之上，可用来定义和运行神经网络。\n",
    "这里我们主要介绍几个一些常用的类"
   ]
  },
  {
   "cell_type": "markdown",
   "metadata": {},
   "source": [
    "**约定：torch.nn 我们为了方便使用，会为他设置别名为nn，本章除nn以外还有其他的命名约定**"
   ]
  },
  {
   "cell_type": "code",
   "execution_count": 1,
   "metadata": {},
   "outputs": [
    {
     "output_type": "execute_result",
     "data": {
      "text/plain": "'1.4.0'"
     },
     "metadata": {},
     "execution_count": 1
    }
   ],
   "source": [
    "# 首先要引入相关的包\n",
    "import torch\n",
    "# 引入torch.nn并指定别名\n",
    "import torch.nn as nn\n",
    "#打印一下版本\n",
    "torch.__version__"
   ]
  },
  {
   "cell_type": "markdown",
   "metadata": {},
   "source": [
    "除了nn别名以外，我们还引用了nn.functional，这个包中包含了神经网络中使用的一些常用函数，这些函数的特点是，不具有可学习的参数(如ReLU，pool，DropOut等)，这些函数可以放在构造函数中，也可以不放，但是这里建议不放。\n",
    "\n",
    "一般情况下我们会**将nn.functional 设置为大写的F**，这样缩写方便调用"
   ]
  },
  {
   "cell_type": "code",
   "execution_count": 2,
   "metadata": {},
   "outputs": [],
   "source": [
    "import torch.nn.functional as F"
   ]
  },
  {
   "cell_type": "markdown",
   "metadata": {},
   "source": [
    "## 定义一个网络\n",
    "PyTorch中已经为我们准备好了现成的网络模型，只要继承nn.Module，并实现它的forward方法，PyTorch会根据autograd，自动实现backward函数，在forward函数中可使用任何tensor支持的函数，还可以使用if、for循环、print、log等Python语法，写法和标准的Python写法一致。"
   ]
  },
  {
   "cell_type": "code",
   "execution_count": 3,
   "metadata": {},
   "outputs": [
    {
     "output_type": "stream",
     "name": "stdout",
     "text": "Net(\n  (conv1): Conv2d(1, 6, kernel_size=(3, 3), stride=(1, 1))\n  (fc1): Linear(in_features=1350, out_features=10, bias=True)\n)\n"
    }
   ],
   "source": [
    "class Net(nn.Module):\n",
    "    def __init__(self):\n",
    "        # nn.Module子类的函数必须在构造函数中执行父类的构造函数\n",
    "        super(Net, self).__init__()\n",
    "        \n",
    "        # 卷积层 '1'表示输入图片为单通道， '6'表示输出通道数，'3'表示卷积核为3*3\n",
    "        self.conv1 = nn.Conv2d(1, 6, 3) \n",
    "        #线性层，输入1350个特征，输出10个特征\n",
    "        self.fc1   = nn.Linear(1350, 10)  #这里的1350是如何计算的呢？这就要看后面的forward函数\n",
    "    #正向传播 \n",
    "    def forward(self, x): \n",
    "        print(x.size()) # 结果：[1, 1, 32, 32]\n",
    "        # 卷积 -> 激活 -> 池化 \n",
    "        x = self.conv1(x) #根据卷积的尺寸计算公式，计算结果是30，具体计算公式后面第二章第四节 卷积神经网络 有详细介绍。\n",
    "        x = F.relu(x)\n",
    "        print(x.size()) # 结果：[1, 6, 30, 30]\n",
    "        x = F.max_pool2d(x, (2, 2)) #我们使用池化层，计算结果是15\n",
    "        x = F.relu(x)\n",
    "        print(x.size()) # 结果：[1, 6, 15, 15]\n",
    "        # reshape，‘-1’表示自适应\n",
    "        #这里做的就是压扁的操作 就是把后面的[1, 6, 15, 15]压扁，变为 [1, 1350]\n",
    "        x = x.view(x.size()[0], -1) \n",
    "        print(x.size()) # 这里就是fc1层的的输入1350 \n",
    "        x = self.fc1(x)        \n",
    "        return x\n",
    "\n",
    "net = Net()\n",
    "print(net)"
   ]
  },
  {
   "cell_type": "markdown",
   "metadata": {},
   "source": [
    "网络的可学习参数通过net.parameters()返回"
   ]
  },
  {
   "cell_type": "code",
   "execution_count": 4,
   "metadata": {},
   "outputs": [
    {
     "output_type": "stream",
     "name": "stdout",
     "text": "Parameter containing:\ntensor([[[[ 0.2409, -0.3094, -0.1907],\n          [ 0.2540, -0.3114, -0.0486],\n          [-0.2910, -0.0177, -0.2169]]],\n\n\n        [[[ 0.1766,  0.0992, -0.1460],\n          [-0.0897,  0.2277,  0.1329],\n          [ 0.2539, -0.3123,  0.1866]]],\n\n\n        [[[ 0.1127, -0.3195,  0.2331],\n          [-0.0698, -0.3230,  0.2146],\n          [-0.1023, -0.0311,  0.3141]]],\n\n\n        [[[ 0.0088,  0.0546,  0.0045],\n          [ 0.0117,  0.3221, -0.2288],\n          [ 0.2748,  0.0220, -0.1390]]],\n\n\n        [[[-0.0078,  0.1938,  0.0964],\n          [ 0.2648, -0.1293,  0.2104],\n          [-0.0873,  0.2276,  0.2728]]],\n\n\n        [[[-0.1716,  0.3324, -0.1194],\n          [ 0.0757,  0.0520, -0.2972],\n          [-0.1446,  0.2094,  0.2011]]]], requires_grad=True)\nParameter containing:\ntensor([ 0.1475,  0.0958,  0.1436, -0.2455,  0.0066, -0.1906],\n       requires_grad=True)\nParameter containing:\ntensor([[-6.9377e-03, -1.4289e-02,  2.6104e-02,  ..., -7.0472e-04,\n         -1.3281e-02,  5.6416e-03],\n        [-2.6720e-02, -2.0989e-02, -5.6467e-03,  ..., -1.9696e-02,\n          8.2089e-03,  5.6490e-05],\n        [ 1.5804e-02,  2.5433e-03, -1.7105e-02,  ..., -9.3036e-03,\n          6.9090e-03, -4.1475e-03],\n        ...,\n        [ 3.9956e-03, -9.1719e-03,  4.3172e-03,  ...,  9.9217e-03,\n         -1.4218e-02,  2.1386e-02],\n        [ 1.7120e-02, -2.4192e-02, -7.2498e-03,  ...,  7.0950e-03,\n          1.1951e-02, -1.4462e-02],\n        [ 6.7034e-03, -1.0273e-02, -7.1315e-03,  ..., -1.2174e-02,\n          2.6914e-02,  2.3922e-02]], requires_grad=True)\nParameter containing:\ntensor([-0.0110,  0.0090, -0.0135,  0.0139, -0.0086,  0.0264, -0.0064,  0.0035,\n         0.0148, -0.0122], requires_grad=True)\n"
    }
   ],
   "source": [
    "for parameters in net.parameters():\n",
    "    print(parameters)"
   ]
  },
  {
   "cell_type": "markdown",
   "metadata": {},
   "source": [
    "net.named_parameters可同时返回可学习的参数及名称。"
   ]
  },
  {
   "cell_type": "code",
   "execution_count": 5,
   "metadata": {},
   "outputs": [
    {
     "output_type": "stream",
     "name": "stdout",
     "text": "conv1.weight : torch.Size([6, 1, 3, 3])\nconv1.bias : torch.Size([6])\nfc1.weight : torch.Size([10, 1350])\nfc1.bias : torch.Size([10])\n"
    }
   ],
   "source": [
    "for name,parameters in net.named_parameters():\n",
    "    print(name,':',parameters.size())"
   ]
  },
  {
   "cell_type": "markdown",
   "metadata": {},
   "source": [
    "forward函数的输入和输出都是Tensor"
   ]
  },
  {
   "cell_type": "code",
   "execution_count": 7,
   "metadata": {},
   "outputs": [
    {
     "output_type": "stream",
     "name": "stdout",
     "text": "torch.Size([1, 1, 32, 32])\ntorch.Size([1, 6, 30, 30])\ntorch.Size([1, 6, 15, 15])\ntorch.Size([1, 1350])\n"
    },
    {
     "output_type": "execute_result",
     "data": {
      "text/plain": "torch.Size([1, 10])"
     },
     "metadata": {},
     "execution_count": 7
    }
   ],
   "source": [
    "input = torch.randn(1, 1, 32, 32) # 这里的对应前面fforward的输入是32\n",
    "out = net(input)\n",
    "out.size()"
   ]
  },
  {
   "cell_type": "code",
   "execution_count": 8,
   "metadata": {},
   "outputs": [
    {
     "output_type": "execute_result",
     "data": {
      "text/plain": "torch.Size([1, 1, 32, 32])"
     },
     "metadata": {},
     "execution_count": 8
    }
   ],
   "source": [
    "input.size()"
   ]
  },
  {
   "cell_type": "markdown",
   "metadata": {},
   "source": [
    "在反向传播前，先要将所有参数的梯度清零"
   ]
  },
  {
   "cell_type": "code",
   "execution_count": 9,
   "metadata": {},
   "outputs": [],
   "source": [
    "net.zero_grad() \n",
    "out.backward(torch.ones(1,10)) # 反向传播的实现是PyTorch自动实现的，我们只要调用这个函数即可"
   ]
  },
  {
   "cell_type": "markdown",
   "metadata": {},
   "source": [
    "**注意**:torch.nn只支持mini-batches，不支持一次只输入一个样本，即一次必须是一个batch。\n",
    "\n",
    "也就是说，就算我们输入一个样本，也会对样本进行分批，所以，所有的输入都会增加一个维度，我们对比下刚才的input，nn中定义为3维，但是我们人工创建时多增加了一个维度，变为了4维，最前面的1即为batch-size"
   ]
  },
  {
   "cell_type": "markdown",
   "metadata": {},
   "source": [
    "## 损失函数\n",
    "在nn中PyTorch还预制了常用的损失函数，下面我们用MSELoss用来计算均方误差"
   ]
  },
  {
   "cell_type": "code",
   "execution_count": 10,
   "metadata": {},
   "outputs": [
    {
     "output_type": "stream",
     "name": "stdout",
     "text": "29.113384246826172\n"
    }
   ],
   "source": [
    "y = torch.arange(0,10).view(1,10).float()\n",
    "criterion = nn.MSELoss()\n",
    "loss = criterion(out, y)\n",
    "#loss是个scalar，我们可以直接用item获取到他的python类型的数值\n",
    "print(loss.item()) "
   ]
  },
  {
   "cell_type": "markdown",
   "metadata": {},
   "source": [
    "## 优化器\n",
    "在反向传播计算完所有参数的梯度后，还需要使用优化方法来更新网络的权重和参数，例如随机梯度下降法(SGD)的更新策略如下：\n",
    "\n",
    "weight = weight - learning_rate * gradient\n",
    "\n",
    "在torch.optim中实现大多数的优化方法，例如RMSProp、Adam、SGD等，下面我们使用SGD做个简单的样例"
   ]
  },
  {
   "cell_type": "code",
   "execution_count": 11,
   "metadata": {},
   "outputs": [],
   "source": [
    "import torch.optim"
   ]
  },
  {
   "cell_type": "code",
   "execution_count": 12,
   "metadata": {},
   "outputs": [
    {
     "output_type": "stream",
     "name": "stdout",
     "text": "torch.Size([1, 1, 32, 32])\ntorch.Size([1, 6, 30, 30])\ntorch.Size([1, 6, 15, 15])\ntorch.Size([1, 1350])\n"
    }
   ],
   "source": [
    "out = net(input) # 这里调用的时候会打印出我们在forword函数中打印的x的大小\n",
    "criterion = nn.MSELoss()\n",
    "loss = criterion(out, y)\n",
    "#新建一个优化器，SGD只需要要调整的参数和学习率\n",
    "optimizer = torch.optim.SGD(net.parameters(), lr = 0.01)\n",
    "# 先梯度清零(与net.zero_grad()效果一样)\n",
    "optimizer.zero_grad() \n",
    "loss.backward()\n",
    "\n",
    "#更新参数\n",
    "optimizer.step()"
   ]
  },
  {
   "cell_type": "markdown",
   "metadata": {},
   "source": [
    "这样，神经网络的数据的一个完整的传播就已经通过PyTorch实现了，下面一章将介绍PyTorch提供的数据加载和处理工具，使用这些工具可以方便的处理所需要的数据。\n",
    "\n",
    "看完这节，大家可能对神经网络模型里面的一些参数的计算方式还有疑惑，这部分会在第二章 第四节 卷积神经网络有详细介绍，并且在第三章 第二节 MNIST数据集手写数字识别的实践代码中有详细的注释说明。"
   ]
  },
  {
   "cell_type": "code",
   "execution_count": null,
   "metadata": {},
   "outputs": [],
   "source": []
  }
 ],
 "metadata": {
  "kernelspec": {
   "display_name": "base",
   "language": "python",
   "name": "base"
  },
  "language_info": {
   "codemirror_mode": {
    "name": "ipython",
    "version": 3
   },
   "file_extension": ".py",
   "mimetype": "text/x-python",
   "name": "python",
   "nbconvert_exporter": "python",
   "pygments_lexer": "ipython3",
   "version": "3.7.3-final"
  }
 },
 "nbformat": 4,
 "nbformat_minor": 2
}